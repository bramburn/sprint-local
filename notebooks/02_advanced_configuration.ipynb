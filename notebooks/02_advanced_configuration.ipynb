{
 "cells": [
  {
   "cell_type": "markdown",
   "metadata": {},
   "source": [
    "# Navigator Agent: Advanced Configuration\n",
    "\n",
    "This notebook demonstrates advanced configuration options for the Navigator Agent."
   ]
  },
  {
   "cell_type": "code",
   "execution_count": null,
   "metadata": {},
   "source": [
    "import os\n",
    "from dotenv import load_dotenv\n",
    "from langchain_openai import ChatOpenAI\n",
    "\n",
    "# Load environment variables\n",
    "load_dotenv()\n",
    "\n",
    "# Initialize OpenAI Language Model with custom parameters\n",
    "llm = ChatOpenAI(\n",
    "    model=\"gpt-4\",\n",
    "    temperature=0.3,  # Lower temperature for more focused responses\n",
    "    max_tokens=1500,  # Increased token limit\n",
    "    model_kwargs={\n",
    "        \"top_p\": 0.9,  # Nucleus sampling\n",
    "        \"frequency_penalty\": 0.2  # Reduce repetition\n",
    "    }\n",
    ")"
   ],
   "outputs": []
  },
  {
   "cell_type": "code",
   "execution_count": null,
   "metadata": {},
   "source": [
    "from src.navigator_agent.agents.navigator import NavigatorAgent\n",
    "from src.navigator_agent.config.graph_config import load_graph_config\n",
    "\n",
    "# Load custom graph configuration\n",
    "graph_config = load_graph_config('config/graph_config.toml')\n",
    "\n",
    "# Customize configuration\n",
    "graph_config.update({\n",
    "    'max_iterations': 5,  # Limit workflow iterations\n",
    "    'solution_diversity_weight': 0.7,  # Prioritize diverse solutions\n",
    "    'error_sensitivity': 0.6  # Adjust error detection threshold\n",
    "})\n",
    "\n",
    "# Initialize Navigator Agent with custom configuration\n",
    "navigator = NavigatorAgent(\n",
    "    llm=llm,\n",
    "    config=graph_config\n",
    ")"
   ],
   "outputs": []
  },
  {
   "cell_type": "code",
   "execution_count": null,
   "metadata": {},
   "source": [
    "# Define a complex problem with specific constraints\n",
    "problem_statement = \"Develop a real-time collaborative editing system with strong consistency guarantees\"\n",
    "\n",
    "# Add optional constraints\n",
    "problem_constraints = {\n",
    "    'performance': {\n",
    "        'latency_ms': 50,\n",
    "        'throughput_ops_per_sec': 1000\n",
    "    },\n",
    "    'scalability': {\n",
    "        'max_concurrent_users': 10000,\n",
    "        'data_size_gb': 500\n",
    "    }\n",
    "}"
   ],
   "outputs": []
  },
  {
   "cell_type": "code",
   "execution_count": null,
   "metadata": {},
   "source": [
    "# Process the problem with constraints\n",
    "workflow_result = navigator.process_input(\n",
    "    problem_statement, \n",
    "    constraints=problem_constraints\n",
    ")\n",
    "\n",
    "# Display detailed solution analysis\n",
    "print(\"Solution Ranking:\")\n",
    "ranked_solutions = sorted(\n",
    "    workflow_result.possible_solutions, \n",
    "    key=lambda sol: sol.evaluation_metrics.get('overall_score', 0), \n",
    "    reverse=True\n",
    ")\n",
    "\n",
    "for solution in ranked_solutions:\n",
    "    print(f\"\\nSolution ID: {solution.id}\")\n",
    "    print(f\"Content: {solution.content}\")\n",
    "    print(\"Evaluation Metrics:\")\n",
    "    for metric, value in solution.evaluation_metrics.items():\n",
    "        print(f\"  - {metric}: {value}\")"
   ],
   "outputs": []
  },
  {
   "cell_type": "code",
   "execution_count": null,
   "metadata": {},
   "source": [
    "# Advanced error and reflection analysis\n",
    "print(\"\\nDetailed Error Analysis:\")\n",
    "for error in workflow_result.current_errors:\n",
    "    print(f\"Error Type: {error.error_type}\")\n",
    "    print(f\"Severity: {error.severity}\")\n",
    "    print(f\"Potential Fixes: {error.suggested_fixes}\\n\")\n",
    "\n",
    "print(\"Reflection Insights:\")\n",
    "for reflection in workflow_result.solution_history:\n",
    "    print(f\"Reflection: {reflection.content}\")\n",
    "    print(f\"Improvement Metrics: {reflection.evaluation_metrics}\\n\")"
   ],
   "outputs": []
  }
 ],
 "metadata": {
  "kernelspec": {
   "display_name": "Python 3",
   "language": "python",
   "name": "python3"
  },
  "language_info": {
   "name": "python",
   "version": "3.9.0"
  }
 },
 "nbformat": 4,
 "nbformat_minor": 2
}
