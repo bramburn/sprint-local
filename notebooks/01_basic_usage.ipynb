{
 "cells": [
  {
   "cell_type": "markdown",
   "metadata": {},
   "source": [
    "# Navigator Agent: Basic Usage\n",
    "\n",
    "This notebook demonstrates the basic usage of the Navigator Agent for solving complex problems."
   ]
  },
  {
   "cell_type": "code",
   "execution_count": null,
   "metadata": {},
   "source": [
    "import os\n",
    "from dotenv import load_dotenv\n",
    "from langchain_openai import ChatOpenAI\n",
    "\n",
    "# Load environment variables\n",
    "load_dotenv()\n",
    "\n",
    "# Initialize OpenAI Language Model\n",
    "llm = ChatOpenAI(\n",
    "    model=\"gpt-4\",\n",
    "    temperature=0.7,\n",
    "    max_tokens=1000\n",
    ")"
   ],
   "outputs": []
  },
  {
   "cell_type": "code",
   "execution_count": null,
   "metadata": {},
   "source": [
    "from src.navigator_agent.agents.navigator import NavigatorAgent\n",
    "\n",
    "# Initialize Navigator Agent\n",
    "navigator = NavigatorAgent(llm)\n",
    "\n",
    "# Define a complex problem statement\n",
    "problem_statement = \"Design a scalable microservices architecture for a high-traffic e-commerce platform\""
   ],
   "outputs": []
  },
  {
   "cell_type": "code",
   "execution_count": null,
   "metadata": {},
   "source": [
    "# Process the problem\n",
    "workflow_result = navigator.process_input(problem_statement)\n",
    "\n",
    "# Display generated solutions\n",
    "print(\"Generated Solutions:\")\n",
    "for solution in workflow_result.possible_solutions:\n",
    "    print(f\"\\nSolution ID: {solution.id}\")\n",
    "    print(f\"Content: {solution.content}\")\n",
    "    print(f\"Evaluation Metrics: {solution.evaluation_metrics}\")"
   ],
   "outputs": []
  },
  {
   "cell_type": "code",
   "execution_count": null,
   "metadata": {},
   "source": [
    "# Analyze errors and reflections\n",
    "print(\"\\nError Analysis:\")\n",
    "for error in workflow_result.current_errors:\n",
    "    print(f\"Error Type: {error.error_type}\")\n",
    "    print(f\"Severity: {error.severity}\")\n",
    "\n",
    "print(\"\\nReflection History:\")\n",
    "for reflection in workflow_result.solution_history:\n",
    "    print(f\"Reflection: {reflection.content}\")"
   ],
   "outputs": []
  }
 ],
 "metadata": {
  "kernelspec": {
   "display_name": "Python 3",
   "language": "python",
   "name": "python3"
  },
  "language_info": {
   "name": "python",
   "version": "3.9.0"
  }
 },
 "nbformat": 4,
 "nbformat_minor": 2
}
