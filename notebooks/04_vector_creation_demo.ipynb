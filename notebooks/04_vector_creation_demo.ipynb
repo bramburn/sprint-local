{
 "cells": [
  {
   "cell_type": "code",
   "execution_count": 1,
   "metadata": {},
   "outputs": [],
   "source": [
    "\n",
    "import os\n",
    "from dotenv import load_dotenv\n",
    "\n",
    "\n",
    "load_dotenv()\n",
    "\n",
    "folder_name = \"roo\"\n",
    "base_path = r\"C:\\dev\\sprint_app\\sprint-py\"\n",
    "xml_path = os.path.join(base_path, \"repomix-roo.xml\")\n",
    "output_dir = os.path.join(base_path, \"vector_store\", folder_name)\n",
    "from src.vector.create import XMLVectorCreator\n",
    "\n",
    "\n"
   ]
  },
  {
   "cell_type": "code",
   "execution_count": 3,
   "metadata": {},
   "outputs": [
    {
     "name": "stdout",
     "output_type": "stream",
     "text": [
      "Exiting without recreating the folder.\n"
     ]
    }
   ],
   "source": [
    "\n",
    "# Check if the output directory already exists\n",
    "if os.path.exists(output_dir):\n",
    "    user_input = input(\n",
    "        f\"The folder '{folder_name}' already exists. Do you want to recreate it? (yes/no): \"\n",
    "    )\n",
    "    if user_input.lower() != \"yes\":\n",
    "        print(\"Exiting without recreating the folder.\")\n",
    "        \n",
    "    else:\n",
    "        creator = XMLVectorCreator()\n",
    "        creator.create_vector_store(xml_path, output_dir, base_path)\n",
    "\n",
    "        print(\"Files created:\", os.listdir(output_dir))\n",
    "else:\n",
    "    creator = XMLVectorCreator()\n",
    "    creator.create_vector_store(xml_path, output_dir, base_path)\n",
    "\n",
    "    print(\"Files created:\", os.listdir(output_dir))"
   ]
  },
  {
   "cell_type": "code",
   "execution_count": 2,
   "metadata": {},
   "outputs": [
    {
     "name": "stdout",
     "output_type": "stream",
     "text": [
      "\n",
      "Search results:\n",
      "File: src/core/prompts/sections/system-info.ts\n",
      " full path: C:\\dev\\sprint_app\\sprint-py\\src\\core\\prompts\\sections\\system-info.ts\n",
      "\n",
      "File: src/core/prompts/sections/capabilities.ts\n",
      " full path: C:\\dev\\sprint_app\\sprint-py\\src\\core\\prompts\\sections\\capabilities.ts\n",
      "\n",
      "File: src/api/transform/o1-format.ts\n",
      " full path: C:\\dev\\sprint_app\\sprint-py\\src\\api\\transform\\o1-format.ts\n",
      "\n",
      "File: src/core/prompts/responses.ts\n",
      " full path: C:\\dev\\sprint_app\\sprint-py\\src\\core\\prompts\\responses.ts\n",
      "\n",
      "File: src/core/prompts/sections/rules.ts\n",
      " full path: C:\\dev\\sprint_app\\sprint-py\\src\\core\\prompts\\sections\\rules.ts\n",
      "\n"
     ]
    }
   ],
   "source": [
    "from src.vector.load import load_vector_store\n",
    "# Load and test\n",
    "search_result_qty = 5\n",
    "search_query = \"directory structure\"\n",
    "\n",
    "\n",
    "\n",
    "vector_store = load_vector_store(output_dir)\n",
    "results = vector_store.similarity_search(search_query, k=search_result_qty)\n",
    "print(\"\\nSearch results:\")\n",
    "for doc in results:\n",
    "    print(f\"File: {doc.metadata['source']}\\n full path: {doc.metadata['full_path']}\\n\")\n"
   ]
  },
  {
   "cell_type": "code",
   "execution_count": null,
   "metadata": {},
   "outputs": [],
   "source": []
  }
 ],
 "metadata": {
  "kernelspec": {
   "display_name": "sprint-py-aqV3NLOV-py3.10",
   "language": "python",
   "name": "python3"
  },
  "language_info": {
   "codemirror_mode": {
    "name": "ipython",
    "version": 3
   },
   "file_extension": ".py",
   "mimetype": "text/x-python",
   "name": "python",
   "nbconvert_exporter": "python",
   "pygments_lexer": "ipython3",
   "version": "3.10.11"
  }
 },
 "nbformat": 4,
 "nbformat_minor": 4
}
