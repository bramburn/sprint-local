{
 "cells": [
  {
   "cell_type": "code",
   "execution_count": 8,
   "metadata": {},
   "outputs": [],
   "source": [
    "\n",
    "import os\n",
    "from dotenv import load_dotenv\n",
    "\n",
    "\n",
    "load_dotenv()\n",
    "\n",
    "folder_name = \"grit-app\"\n",
    "base_path = r\"C:\\dev\\sprint_app\\sprint-py\"\n",
    "repo_path = r\"C:\\dev\\grit_app\"\n",
    "xml_path = os.path.join(base_path, \"repomix-grit.xml\")\n",
    "output_dir = os.path.join(base_path, \"vector_store\", folder_name)\n",
    "from src.vector.create import XMLVectorCreator\n",
    "\n",
    "\n"
   ]
  },
  {
   "cell_type": "code",
   "execution_count": 9,
   "metadata": {},
   "outputs": [
    {
     "name": "stdout",
     "output_type": "stream",
     "text": [
      "Creating vector store...\n",
      "Files created: ['index.faiss', 'index.pkl']\n"
     ]
    }
   ],
   "source": [
    "def create_v():\n",
    "    print(\"Creating vector store...\")\n",
    "    creator = XMLVectorCreator()\n",
    "    creator.create_vector_store(xml_path, output_dir, repo_path)\n",
    "    print(\"Files created:\", os.listdir(output_dir))\n",
    "\n",
    "\n",
    "# Check if the output directory already exists\n",
    "if os.path.exists(output_dir):\n",
    "    user_input = input(\n",
    "        f\"The folder '{folder_name}' already exists. Do you want to recreate it? (yes/no): \"\n",
    "    )\n",
    "    if user_input.lower() != \"yes\":\n",
    "        print(\"Exiting without recreating the folder.\")\n",
    "    else:\n",
    "        create_v()\n",
    "else:\n",
    "    create_v()"
   ]
  },
  {
   "cell_type": "code",
   "execution_count": 15,
   "metadata": {},
   "outputs": [
    {
     "name": "stdout",
     "output_type": "stream",
     "text": [
      "\n",
      "Search results:\n",
      "File: registration/templates/registration/password_reset_done.html\n",
      "\n",
      "File: registration/templates/registration/password_reset_complete.html\n",
      "\n",
      "File: directory_structure\n",
      "\n",
      "File: registration/templates/registration/password_reset_sent.html\n",
      "\n",
      "File: registration/tests/views/test_login.py\n",
      "\n",
      "File: projects/tests/test_views.py\n",
      "\n",
      "File: registration/templates/registration/login.html\n",
      "\n",
      "File: registration/views/login.py\n",
      "\n",
      "File: registration/templates/email/password_reset_email.html\n",
      "\n",
      "File: registration/templates/registration/admin/users/detail.html\n",
      "\n",
      "File: registration/views/admin.py\n",
      "\n",
      "File: registration/views/admin.py\n",
      "\n",
      "File: registration/tests/views/test_login.py\n",
      "\n",
      "File: registration/views/password_reset.py\n",
      "\n",
      "File: registration/tests/views/test_profile.py\n",
      "\n",
      "File: registration/tests/test_urls.py\n",
      "\n",
      "File: grit_app/settings.py\n",
      "\n",
      "File: directory_structure\n",
      "\n",
      "File: registration/templates/registration/admin/roles/detail.html\n",
      "\n",
      "File: registration/views/password_reset.py\n",
      "\n"
     ]
    }
   ],
   "source": [
    "from src.vector.load import load_vector_store\n",
    "# Load and test\n",
    "search_result_qty = 20\n",
    "search_query = \"edit the login page html field\"\n",
    "\n",
    "\n",
    "\n",
    "vector_store = load_vector_store(output_dir)\n",
    "results = vector_store.similarity_search(search_query, k=search_result_qty)\n",
    "print(\"\\nSearch results:\")\n",
    "for doc in results:\n",
    "    print(f\"File: {doc.metadata['source']}\\n\")\n"
   ]
  },
  {
   "cell_type": "code",
   "execution_count": null,
   "metadata": {},
   "outputs": [],
   "source": [
    "# Search for documents with specific metadata\n",
    "query = \"llama\"\n",
    "vector_store = load_vector_store(output_dir)\n",
    "results = vector_store.similarity_search(\n",
    "    query=query,\n",
    "    k=5,  # Number of results to retrieve\n",
    "    filter={\"type\": \"dir_structure\"}  # Filter by metadata\n",
    ")\n",
    "print(results)\n",
    "# Display results\n",
    "for doc in results:\n",
    "    print(doc)\n"
   ]
  }
 ],
 "metadata": {
  "kernelspec": {
   "display_name": "sprint-py-aqV3NLOV-py3.10",
   "language": "python",
   "name": "python3"
  },
  "language_info": {
   "codemirror_mode": {
    "name": "ipython",
    "version": 3
   },
   "file_extension": ".py",
   "mimetype": "text/x-python",
   "name": "python",
   "nbconvert_exporter": "python",
   "pygments_lexer": "ipython3",
   "version": "3.10.11"
  }
 },
 "nbformat": 4,
 "nbformat_minor": 4
}
