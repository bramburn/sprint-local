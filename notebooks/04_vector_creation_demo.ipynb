{
 "cells": [
  {
   "cell_type": "code",
   "execution_count": 15,
   "metadata": {},
   "outputs": [],
   "source": [
    "\n",
    "import os\n",
    "from dotenv import load_dotenv\n",
    "\n",
    "\n",
    "load_dotenv()\n",
    "\n",
    "folder_name = \"vitest\"\n",
    "base_path = r\"C:\\dev\\sprint_app\\sprint-py\"\n",
    "repo_path = r\"C:\\dev\\Roo-Code\"\n",
    "xml_path = os.path.join(base_path, \"repomix-vitest.xml\")\n",
    "output_dir = os.path.join(base_path, \"vector_store\", folder_name)\n",
    "from src.vector.create import XMLVectorCreator\n",
    "\n",
    "\n"
   ]
  },
  {
   "cell_type": "code",
   "execution_count": 16,
   "metadata": {},
   "outputs": [
    {
     "name": "stdout",
     "output_type": "stream",
     "text": [
      "Creating vector store...\n",
      "Files created: ['index.faiss', 'index.pkl']\n"
     ]
    }
   ],
   "source": [
    "def create_v():\n",
    "    print(\"Creating vector store...\")\n",
    "    creator = XMLVectorCreator()\n",
    "    creator.create_vector_store(xml_path, output_dir, base_path)\n",
    "    print(\"Files created:\", os.listdir(output_dir))\n",
    "\n",
    "\n",
    "# Check if the output directory already exists\n",
    "if os.path.exists(output_dir):\n",
    "    user_input = input(\n",
    "        f\"The folder '{folder_name}' already exists. Do you want to recreate it? (yes/no): \"\n",
    "    )\n",
    "    if user_input.lower() != \"yes\":\n",
    "        print(\"Exiting without recreating the folder.\")\n",
    "    else:\n",
    "        create_v()\n",
    "else:\n",
    "    create_v()"
   ]
  },
  {
   "cell_type": "code",
   "execution_count": 19,
   "metadata": {},
   "outputs": [
    {
     "name": "stdout",
     "output_type": "stream",
     "text": [
      "\n",
      "Search results:\n",
      "File: docs/guide/mocking.md\n",
      " full path: C:\\dev\\sprint_app\\sprint-py\\docs\\guide\\mocking.md\n",
      "\n",
      "File: docs/guide/mocking.md\n",
      " full path: C:\\dev\\sprint_app\\sprint-py\\docs\\guide\\mocking.md\n",
      "\n",
      "File: docs/guide/mocking.md\n",
      " full path: C:\\dev\\sprint_app\\sprint-py\\docs\\guide\\mocking.md\n",
      "\n",
      "File: docs/guide/migration.md\n",
      " full path: C:\\dev\\sprint_app\\sprint-py\\docs\\guide\\migration.md\n",
      "\n",
      "File: test/core/test/jest-mock.test.ts\n",
      " full path: C:\\dev\\sprint_app\\sprint-py\\test\\core\\test\\jest-mock.test.ts\n",
      "\n",
      "File: test/core/test/jest-mock.test.ts\n",
      " full path: C:\\dev\\sprint_app\\sprint-py\\test\\core\\test\\jest-mock.test.ts\n",
      "\n",
      "File: test/core/test/jest-mock.test.ts\n",
      " full path: C:\\dev\\sprint_app\\sprint-py\\test\\core\\test\\jest-mock.test.ts\n",
      "\n",
      "File: test/core/test/jest-mock.test.ts\n",
      " full path: C:\\dev\\sprint_app\\sprint-py\\test\\core\\test\\jest-mock.test.ts\n",
      "\n",
      "File: docs/guide/mocking.md\n",
      " full path: C:\\dev\\sprint_app\\sprint-py\\docs\\guide\\mocking.md\n",
      "\n",
      "File: test/cli/test/browser-multiple.test.ts\n",
      " full path: C:\\dev\\sprint_app\\sprint-py\\test\\cli\\test\\browser-multiple.test.ts\n",
      "\n",
      "File: test/core/test/jest-mock.test.ts\n",
      " full path: C:\\dev\\sprint_app\\sprint-py\\test\\core\\test\\jest-mock.test.ts\n",
      "\n",
      "File: docs/guide/improving-performance.md\n",
      " full path: C:\\dev\\sprint_app\\sprint-py\\docs\\guide\\improving-performance.md\n",
      "\n",
      "File: test/core/test/jest-mock.test.ts\n",
      " full path: C:\\dev\\sprint_app\\sprint-py\\test\\core\\test\\jest-mock.test.ts\n",
      "\n",
      "File: test/core/test/jest-mock.test.ts\n",
      " full path: C:\\dev\\sprint_app\\sprint-py\\test\\core\\test\\jest-mock.test.ts\n",
      "\n",
      "File: test/core/test/file-path.test.ts\n",
      " full path: C:\\dev\\sprint_app\\sprint-py\\test\\core\\test\\file-path.test.ts\n",
      "\n",
      "File: test/core/test/mock-internals.test.ts\n",
      " full path: C:\\dev\\sprint_app\\sprint-py\\test\\core\\test\\mock-internals.test.ts\n",
      "\n",
      "File: test/core/test/dom.test.ts\n",
      " full path: C:\\dev\\sprint_app\\sprint-py\\test\\core\\test\\dom.test.ts\n",
      "\n",
      "File: test/core/test/mocking/destructured.test.ts\n",
      " full path: C:\\dev\\sprint_app\\sprint-py\\test\\core\\test\\mocking\\destructured.test.ts\n",
      "\n",
      "File: docs/guide/mocking.md\n",
      " full path: C:\\dev\\sprint_app\\sprint-py\\docs\\guide\\mocking.md\n",
      "\n",
      "File: test/core/test/jest-mock.test.ts\n",
      " full path: C:\\dev\\sprint_app\\sprint-py\\test\\core\\test\\jest-mock.test.ts\n",
      "\n"
     ]
    },
    {
     "ename": "",
     "evalue": "",
     "output_type": "error",
     "traceback": [
      "\u001b[1;31mThe Kernel crashed while executing code in the current cell or a previous cell. \n",
      "\u001b[1;31mPlease review the code in the cell(s) to identify a possible cause of the failure. \n",
      "\u001b[1;31mClick <a href='https://aka.ms/vscodeJupyterKernelCrash'>here</a> for more info. \n",
      "\u001b[1;31mView Jupyter <a href='command:jupyter.viewOutput'>log</a> for further details."
     ]
    }
   ],
   "source": [
    "from src.vector.load import load_vector_store\n",
    "# Load and test\n",
    "search_result_qty = 20\n",
    "search_query = \"using spyon\"\n",
    "\n",
    "\n",
    "\n",
    "vector_store = load_vector_store(output_dir)\n",
    "results = vector_store.similarity_search(search_query, k=search_result_qty)\n",
    "print(\"\\nSearch results:\")\n",
    "for doc in results:\n",
    "    print(f\"File: {doc.metadata['source']}\\n full path: {doc.metadata['full_path']}\\n\")\n"
   ]
  },
  {
   "cell_type": "code",
   "execution_count": 14,
   "metadata": {},
   "outputs": [
    {
     "name": "stdout",
     "output_type": "stream",
     "text": [
      "[]\n"
     ]
    }
   ],
   "source": [
    "# Search for documents with specific metadata\n",
    "query = \"llama\"\n",
    "vector_store = load_vector_store(output_dir)\n",
    "results = vector_store.similarity_search(\n",
    "    query=query,\n",
    "    k=5,  # Number of results to retrieve\n",
    "    filter={\"type\": \"dir_structure\"}  # Filter by metadata\n",
    ")\n",
    "print(results)\n",
    "# Display results\n",
    "for doc in results:\n",
    "    print(doc)\n"
   ]
  }
 ],
 "metadata": {
  "kernelspec": {
   "display_name": "sprint-py-aqV3NLOV-py3.10",
   "language": "python",
   "name": "python3"
  },
  "language_info": {
   "codemirror_mode": {
    "name": "ipython",
    "version": 3
   },
   "file_extension": ".py",
   "mimetype": "text/x-python",
   "name": "python",
   "nbconvert_exporter": "python",
   "pygments_lexer": "ipython3",
   "version": "3.10.11"
  }
 },
 "nbformat": 4,
 "nbformat_minor": 4
}
