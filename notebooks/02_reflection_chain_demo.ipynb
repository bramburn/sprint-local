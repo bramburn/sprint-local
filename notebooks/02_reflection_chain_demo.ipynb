{
 "cells": [
  {
   "cell_type": "code",
   "execution_count": null,
   "metadata": {},
   "outputs": [],
   "source": [
    "import os\n",
    "from dotenv import load_dotenv\n",
    "from src.agent.reflection.reflection_chain import ReflectionChain\n",
    "\n",
    "load_dotenv()\n",
    "\n",
    "chain = ReflectionChain()\n",
    "print(\"reflection chain initialized\")\n",
    "\n",
    "\n"
   ]
  },
  {
   "cell_type": "code",
   "execution_count": 5,
   "metadata": {},
   "outputs": [],
   "source": [
    "problem_description = \"\"\"\n",
    "\n",
    "Design a scalable microservices architecture for a high-traffic e-commerce platform\n",
    "\"\"\"\n",
    "number_of_tests = 5\n"
   ]
  },
  {
   "cell_type": "code",
   "execution_count": null,
   "metadata": {},
   "outputs": [],
   "source": [
    "print(\"running reflection chain\")\n",
    "result = chain.reflect(problem_description, number_of_tests)\n",
    "print(result)\n"
   ]
  },
  {
   "cell_type": "markdown",
   "metadata": {},
   "source": [
    "## How to Use\n",
    "\n",
    "1. Modify the `problem_description` variable to test different scenarios\n",
    "2. Adjust the `number_of_tests` variable to simulate different test case counts\n",
    "3. Run all cells to see the reflection chain output\n",
    "4. The output will show the complete reflection process including:\n",
    "   - Initial problem analysis\n",
    "   - Test case evaluation\n",
    "   - Self-evaluation\n",
    "   - Refined analysis\n",
    "   - Final aggregation\n"
   ]
  }
 ],
 "metadata": {
  "kernelspec": {
   "display_name": "sprint-py-aqV3NLOV-py3.10",
   "language": "python",
   "name": "python3"
  },
  "language_info": {
   "codemirror_mode": {
    "name": "ipython",
    "version": 3
   },
   "file_extension": ".py",
   "mimetype": "text/x-python",
   "name": "python",
   "nbconvert_exporter": "python",
   "pygments_lexer": "ipython3",
   "version": "3.10.11"
  }
 },
 "nbformat": 4,
 "nbformat_minor": 2
}
