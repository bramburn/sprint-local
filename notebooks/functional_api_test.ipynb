{
 "cells": [
  {
   "cell_type": "markdown",
   "metadata": {},
   "source": [
    "# Setup the functional API"
   ]
  },
  {
   "cell_type": "code",
   "execution_count": 1,
   "metadata": {},
   "outputs": [],
   "source": [
    "from config import config\n",
    "from src.llm.openrouter import get_openrouter\n",
    "from langgraph.func import task, entrypoint\n",
    "max_tokens = 1024*8\n",
    "llm = get_openrouter(max_tokens=max_tokens)\n",
    "\n"
   ]
  },
  {
   "cell_type": "code",
   "execution_count": null,
   "metadata": {},
   "outputs": [],
   "source": [
    "# setup tasks for generating 3 example code snippets\n",
    "\n",
    "\n",
    "@task\n",
    "def generate_natural_language_code_snippet(error_message: str):\n",
    "    prompt = f\"\"\"\n",
    "    Generate a natural language code snippet that will help me fix the following error message. It should be in simple english and not technical jargon.\n",
    "    it should include all the input/output parameters and the expected output.\n",
    "    {error_message}\n",
    "    \"\"\"\n",
    "    result = llm.invoke(prompt)\n",
    "    content = result.get(\"content\", \"\")  # Safely access the \"content\" key\n",
    "    return content\n",
    "\n",
    "\n",
    "\n",
    "\n",
    "@task\n",
    "def generate_code_snippet(natural_language_code_snippet: str):\n",
    "    prompt = f\"\"\"\n",
    "    Generate a code snippet that will help me fix the following error message. It should be in python.\n",
    "    {natural_language_code_snippet}\n",
    "    \"\"\"\n",
    "    result = llm.invoke(prompt)\n",
    "    content = result.get(\"content\", \"\")  # Safely access the \"content\" key\n",
    "    return content\n",
    "\n"
   ]
  },
  {
   "cell_type": "code",
   "execution_count": null,
   "metadata": {},
   "outputs": [],
   "source": [
    "@task\n",
    "def generate_plan_to_implement_the_code_prompt(prompt: str):\n",
    "    prompt = f\"\"\"\n",
    "    Generate a plan to implement the following code snippet.\n",
    "    {prompt}\n",
    "    \"\"\"\n",
    "    return llm.invoke(prompt).content\n",
    "\n",
    "\n",
    "\n",
    "@entrypoint\n",
    "def _start_workflow(state:dict, input_data: dict):\n",
    "    input_text = input_data.get(\"input_text\", \"\")\n",
    "    \n",
    "    \n",
    "    error_message = input_data.get(\"error_message\", \"\")\n",
    "    natural_language_code_snippet = generate_natural_language_code_snippet(error_message)\n",
    "    code_snippet = generate_code_snippet(natural_language_code_snippet)\n",
    "    plan_to_implement_the_code_prompt = generate_plan_to_implement_the_code_prompt(code_snippet)\n",
    "    return plan_to_implement_the_code_prompt\n",
    "\n",
    "\n",
    "\n"
   ]
  }
 ],
 "metadata": {
  "kernelspec": {
   "display_name": "sprint-py-aqV3NLOV-py3.10",
   "language": "python",
   "name": "python3"
  },
  "language_info": {
   "codemirror_mode": {
    "name": "ipython",
    "version": 3
   },
   "file_extension": ".py",
   "mimetype": "text/x-python",
   "name": "python",
   "nbconvert_exporter": "python",
   "pygments_lexer": "ipython3",
   "version": "3.10.11"
  }
 },
 "nbformat": 4,
 "nbformat_minor": 2
}
