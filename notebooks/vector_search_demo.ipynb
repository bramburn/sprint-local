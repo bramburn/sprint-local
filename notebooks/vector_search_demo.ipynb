{
 "cells": [
  {
   "cell_type": "markdown",
   "metadata": {},
   "source": [
    "# Vector Search Workflow Demo\n",
    "\n",
    "This notebook demonstrates how to use the `SimpleVectorSearchWorkflow` to perform semantic search across project files."
   ]
  },
  {
   "cell_type": "code",
   "execution_count": 1,
   "metadata": {},
   "outputs": [],
   "source": [
    "# Add project root to Python path\n",
    "import sys\n",
    "import os\n",
    "\n",
    "# Determine the project root directory\n",
    "project_root = r\"C:\\dev\\Roo-Code\"\n",
    "# sys.path.insert(0, project_root)"
   ]
  },
  {
   "cell_type": "code",
   "execution_count": 2,
   "metadata": {},
   "outputs": [
    {
     "ename": "ImportError",
     "evalue": "cannot import name 'OutputParserException' from 'langchain_core.output_parsers' (c:\\Users\\bramburn\\AppData\\Local\\pypoetry\\Cache\\virtualenvs\\sprint-py-aqV3NLOV-py3.10\\lib\\site-packages\\langchain_core\\output_parsers\\__init__.py)",
     "output_type": "error",
     "traceback": [
      "\u001b[1;31m---------------------------------------------------------------------------\u001b[0m",
      "\u001b[1;31mImportError\u001b[0m                               Traceback (most recent call last)",
      "Cell \u001b[1;32mIn[2], line 2\u001b[0m\n\u001b[0;32m      1\u001b[0m \u001b[38;5;66;03m# Import the SimpleVectorSearchWorkflow\u001b[39;00m\n\u001b[1;32m----> 2\u001b[0m \u001b[38;5;28;01mfrom\u001b[39;00m\u001b[38;5;250m \u001b[39m\u001b[38;5;21;01msrc\u001b[39;00m\u001b[38;5;21;01m.\u001b[39;00m\u001b[38;5;21;01magent\u001b[39;00m\u001b[38;5;21;01m.\u001b[39;00m\u001b[38;5;21;01mreflection\u001b[39;00m\u001b[38;5;21;01m.\u001b[39;00m\u001b[38;5;21;01mworkflow\u001b[39;00m\u001b[38;5;250m \u001b[39m\u001b[38;5;28;01mimport\u001b[39;00m SimpleVectorSearchWorkflow\n\u001b[0;32m      4\u001b[0m \u001b[38;5;66;03m# Initialize the workflow\u001b[39;00m\n\u001b[0;32m      5\u001b[0m \u001b[38;5;66;03m# Adjust the vector_store_path if your vector store is in a different location\u001b[39;00m\n\u001b[0;32m      6\u001b[0m vector_store_path \u001b[38;5;241m=\u001b[39m \u001b[38;5;124mr\u001b[39m\u001b[38;5;124m\"\u001b[39m\u001b[38;5;124mC:\u001b[39m\u001b[38;5;124m\\\u001b[39m\u001b[38;5;124mdev\u001b[39m\u001b[38;5;124m\\\u001b[39m\u001b[38;5;124msprint_app\u001b[39m\u001b[38;5;124m\\\u001b[39m\u001b[38;5;124msprint-py\u001b[39m\u001b[38;5;124m\\\u001b[39m\u001b[38;5;124mvector_store\u001b[39m\u001b[38;5;124m\\\u001b[39m\u001b[38;5;124mroo\u001b[39m\u001b[38;5;124m\"\u001b[39m\n",
      "File \u001b[1;32mC:\\dev\\sprint_app\\sprint-py\\src\\agent\\reflection\\workflow.py:10\u001b[0m\n\u001b[0;32m      8\u001b[0m \u001b[38;5;66;03m# Import Ollama embeddings and keyword extraction\u001b[39;00m\n\u001b[0;32m      9\u001b[0m \u001b[38;5;28;01mfrom\u001b[39;00m\u001b[38;5;250m \u001b[39m\u001b[38;5;21;01msrc\u001b[39;00m\u001b[38;5;21;01m.\u001b[39;00m\u001b[38;5;21;01mmodel\u001b[39;00m\u001b[38;5;21;01m.\u001b[39;00m\u001b[38;5;21;01membed\u001b[39;00m\u001b[38;5;250m \u001b[39m\u001b[38;5;28;01mimport\u001b[39;00m get_ollama_embeddings\n\u001b[1;32m---> 10\u001b[0m \u001b[38;5;28;01mfrom\u001b[39;00m\u001b[38;5;250m \u001b[39m\u001b[38;5;21;01m.\u001b[39;00m\u001b[38;5;21;01mnodes\u001b[39;00m\u001b[38;5;21;01m.\u001b[39;00m\u001b[38;5;21;01mkeyword_extraction\u001b[39;00m\u001b[38;5;250m \u001b[39m\u001b[38;5;28;01mimport\u001b[39;00m extract_keywords\n\u001b[0;32m     12\u001b[0m \u001b[38;5;28;01mclass\u001b[39;00m\u001b[38;5;250m \u001b[39m\u001b[38;5;21;01mSimpleVectorSearchWorkflow\u001b[39;00m:\n\u001b[0;32m     13\u001b[0m     \u001b[38;5;28;01mdef\u001b[39;00m\u001b[38;5;250m \u001b[39m\u001b[38;5;21m__init__\u001b[39m(\n\u001b[0;32m     14\u001b[0m         \u001b[38;5;28mself\u001b[39m,\n\u001b[0;32m     15\u001b[0m         vector_store_path: \u001b[38;5;28mstr\u001b[39m \u001b[38;5;241m=\u001b[39m \u001b[38;5;124m\"\u001b[39m\u001b[38;5;124mvector_store\u001b[39m\u001b[38;5;124m\"\u001b[39m,\n\u001b[0;32m     16\u001b[0m         base_code_path: Optional[\u001b[38;5;28mstr\u001b[39m] \u001b[38;5;241m=\u001b[39m \u001b[38;5;28;01mNone\u001b[39;00m,\n\u001b[0;32m     17\u001b[0m         embeddings: Optional[Embeddings] \u001b[38;5;241m=\u001b[39m \u001b[38;5;28;01mNone\u001b[39;00m\n\u001b[0;32m     18\u001b[0m     ):\n",
      "File \u001b[1;32mC:\\dev\\sprint_app\\sprint-py\\src\\agent\\reflection\\nodes\\keyword_extraction.py:7\u001b[0m\n\u001b[0;32m      4\u001b[0m \u001b[38;5;28;01mfrom\u001b[39;00m\u001b[38;5;250m \u001b[39m\u001b[38;5;21;01mtenacity\u001b[39;00m\u001b[38;5;250m \u001b[39m\u001b[38;5;28;01mimport\u001b[39;00m retry, stop_after_attempt, wait_exponential\n\u001b[0;32m      6\u001b[0m \u001b[38;5;28;01mfrom\u001b[39;00m\u001b[38;5;250m \u001b[39m\u001b[38;5;21;01mpydantic\u001b[39;00m\u001b[38;5;250m \u001b[39m\u001b[38;5;28;01mimport\u001b[39;00m BaseModel, Field\n\u001b[1;32m----> 7\u001b[0m \u001b[38;5;28;01mfrom\u001b[39;00m\u001b[38;5;250m \u001b[39m\u001b[38;5;21;01mlangchain_core\u001b[39;00m\u001b[38;5;21;01m.\u001b[39;00m\u001b[38;5;21;01moutput_parsers\u001b[39;00m\u001b[38;5;250m \u001b[39m\u001b[38;5;28;01mimport\u001b[39;00m PydanticOutputParser, OutputParserException\n\u001b[0;32m      8\u001b[0m \u001b[38;5;28;01mfrom\u001b[39;00m\u001b[38;5;250m \u001b[39m\u001b[38;5;21;01mlangchain_core\u001b[39;00m\u001b[38;5;21;01m.\u001b[39;00m\u001b[38;5;21;01mprompts\u001b[39;00m\u001b[38;5;250m \u001b[39m\u001b[38;5;28;01mimport\u001b[39;00m PromptTemplate\n\u001b[0;32m      9\u001b[0m \u001b[38;5;28;01mfrom\u001b[39;00m\u001b[38;5;250m \u001b[39m\u001b[38;5;21;01mlangchain_core\u001b[39;00m\u001b[38;5;21;01m.\u001b[39;00m\u001b[38;5;21;01mrunnables\u001b[39;00m\u001b[38;5;250m \u001b[39m\u001b[38;5;28;01mimport\u001b[39;00m RunnableConfig\n",
      "\u001b[1;31mImportError\u001b[0m: cannot import name 'OutputParserException' from 'langchain_core.output_parsers' (c:\\Users\\bramburn\\AppData\\Local\\pypoetry\\Cache\\virtualenvs\\sprint-py-aqV3NLOV-py3.10\\lib\\site-packages\\langchain_core\\output_parsers\\__init__.py)"
     ]
    }
   ],
   "source": [
    "# Import the SimpleVectorSearchWorkflow\n",
    "from src.agent.reflection.workflow import SimpleVectorSearchWorkflow\n",
    "\n",
    "# Initialize the workflow\n",
    "# Adjust the vector_store_path if your vector store is in a different location\n",
    "vector_store_path = r\"C:\\dev\\sprint_app\\sprint-py\\vector_store\\roo\"\n",
    "workflow = SimpleVectorSearchWorkflow(vector_store_path=vector_store_path,base_code_path=project_root)"
   ]
  },
  {
   "cell_type": "code",
   "execution_count": null,
   "metadata": {},
   "outputs": [],
   "source": [
    "# Import the SimpleVectorSearchWorkflow\n",
    "from src.agent.reflection.workflow import SimpleVectorSearchWorkflow\n",
    "\n",
    "# Initialize the workflow\n",
    "# Adjust the vector_store_path if your vector store is in a different location\n",
    "vector_store_path = r\"C:\\dev\\sprint_app\\sprint-py\\vector_store\\roo\"\n",
    "workflow = SimpleVectorSearchWorkflow(vector_store_path=vector_store_path,base_code_path=project_root)"
   ]
  },
  {
   "cell_type": "code",
   "execution_count": null,
   "metadata": {},
   "outputs": [],
   "source": [
    "# Import the SimpleVectorSearchWorkflow\n",
    "from src.agent.reflection.workflow import SimpleVectorSearchWorkflow\n",
    "\n",
    "# Initialize the workflow\n",
    "# Adjust the vector_store_path if your vector store is in a different location\n",
    "vector_store_path = r\"C:\\dev\\sprint_app\\sprint-py\\vector_store\\roo\"\n",
    "workflow = SimpleVectorSearchWorkflow(\n",
    "    vector_store_path=vector_store_path, base_code_path=project_root\n",
    ")"
   ]
  },
  {
   "cell_type": "code",
   "execution_count": null,
   "metadata": {},
   "outputs": [],
   "source": [
    "# Import the SimpleVectorSearchWorkflow\n",
    "from src.agent.reflection.workflow import SimpleVectorSearchWorkflow\n",
    "\n",
    "# Initialize the workflow\n",
    "# Adjust the vector_store_path if your vector store is in a different location\n",
    "vector_store_path = r\"C:\\dev\\sprint_app\\sprint-py\\vector_store\\roo\"\n",
    "workflow = SimpleVectorSearchWorkflow(\n",
    "    vector_store_path=vector_store_path, base_code_path=project_root\n",
    ")"
   ]
  },
  {
   "cell_type": "markdown",
   "metadata": {},
   "source": [
    "## Example Searches\n",
    "\n",
    "Let's try different search queries to find similar files:"
   ]
  },
  {
   "cell_type": "code",
   "execution_count": null,
   "metadata": {},
   "outputs": [],
   "source": [
    "# Search for files related to embeddings\n",
    "embedding_files = workflow.run('embeddings and vector search')\n",
    "print(\"Files related to embeddings:\")\n",
    "for file in embedding_files:\n",
    "    print(f\"- {file}\")"
   ]
  },
  {
   "cell_type": "code",
   "execution_count": null,
   "metadata": {},
   "outputs": [],
   "source": [
    "# Search for files related to workflow\n",
    "workflow_files = workflow.run('langgraph workflow and agent')\n",
    "print(\"\\nFiles related to workflows:\")\n",
    "for file in workflow_files:\n",
    "    print(f\"- {file}\")"
   ]
  },
  {
   "cell_type": "markdown",
   "metadata": {},
   "source": [
    "## Advanced Usage\n",
    "\n",
    "You can also pass custom embeddings if needed:"
   ]
  },
  {
   "cell_type": "code",
   "execution_count": null,
   "metadata": {},
   "outputs": [],
   "source": [
    "# Optional: Use custom embeddings\n",
    "from src.model.embed import get_ollama_embeddings\n",
    "\n",
    "# Create workflow with custom embeddings\n",
    "custom_workflow = SimpleVectorSearchWorkflow(\n",
    "    vector_store_path='vector_store', \n",
    "    embeddings=get_ollama_embeddings()\n",
    ")\n",
    "\n",
    "# Perform search with custom embeddings\n",
    "custom_search_results = custom_workflow.run('custom embedding search')\n",
    "print(\"\\nCustom embedding search results:\")\n",
    "for file in custom_search_results:\n",
    "    print(f\"- {file}\")"
   ]
  }
 ],
 "metadata": {
  "kernelspec": {
   "display_name": "sprint-py-aqV3NLOV-py3.10",
   "language": "python",
   "name": "python3"
  },
  "language_info": {
   "codemirror_mode": {
    "name": "ipython",
    "version": 3
   },
   "file_extension": ".py",
   "mimetype": "text/x-python",
   "name": "python",
   "nbconvert_exporter": "python",
   "pygments_lexer": "ipython3",
   "version": "3.10.11"
  }
 },
 "nbformat": 4,
 "nbformat_minor": 2
}
