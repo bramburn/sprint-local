{
 "cells": [
  {
   "cell_type": "markdown",
   "metadata": {},
   "source": [
    "# File Reader Utility Demo\n",
    "\n",
    "This notebook demonstrates the usage of the `read_file_with_line_numbers` utility function."
   ]
  },
  {
   "cell_type": "code",
   "execution_count": 1,
   "metadata": {},
   "outputs": [],
   "source": [
    "# Import the utility function\n",
    "import sys\n",
    "import os\n",
    "\n",
    "# Add the project root to the Python path\n",
    "project_root = os.path.abspath(os.path.join(os.getcwd(), '..'))\n",
    "sys.path.insert(0, project_root)\n",
    "\n",
    "from src.utils.get_file import read_file_with_line_numbers"
   ]
  },
  {
   "cell_type": "code",
   "execution_count": 2,
   "metadata": {},
   "outputs": [
    {
     "name": "stdout",
     "output_type": "stream",
     "text": [
      "Contents of current notebook:\n",
      "1: import pytest\n",
      "2: import os\n",
      "3: from src.vector.create import XMLVectorCreator\n",
      "4: from src.vector.load import load_vector_store\n",
      "5: \n",
      "6: @pytest.fixture\n",
      "7: def sample_xml():\n",
      "8:     return \"\"\"<directory_structure>\n",
      "9: file1.py\n",
      "10: file2.py\n",
      "11: </directory_structure>\n",
      "12: <files>\n",
      "13: <file path=\"file1.py\">print(\"Hello\")</file>\n",
      "14: <file path=\"file2.py\">def func(): pass</file>\n",
      "15: </files>\"\"\"\n",
      "16: \n",
      "17: def test_vector_creation(tmp_path, sample_xml):\n",
      "18:     # Create test XML file\n",
      "19:     xml_path = tmp_path / \"test.xml\"\n",
      "20:     with open(xml_path, 'w') as f:\n",
      "21:         f.write(sample_xml)\n",
      "22: \n",
      "23:     # Create vector store\n",
      "24:     output_dir = tmp_path / \"vectors\"\n",
      "25:     creator = XMLVectorCreator()\n",
      "26:     creator.create_vector_store(str(xml_path), str(output_dir))\n",
      "27: \n",
      "28:     # Verify vector store was created\n",
      "29:     assert os.path.exists(output_dir)\n",
      "30:     assert os.path.exists(output_dir / \"index.faiss\")\n",
      "31: \n",
      "32:     # Test loading\n",
      "33:     vector_store = load_vector_store(str(output_dir))\n",
      "34:     assert vector_store is not None\n"
     ]
    }
   ],
   "source": [
    "# Example 1: Read this notebook itself\n",
    "current_notebook_path = r\"C:\\dev\\sprint_app\\sprint-py\\tests\\test_vector_creation.py\"\n",
    "print(\"Contents of current notebook:\")\n",
    "for line in read_file_with_line_numbers(current_notebook_path):\n",
    "    print(line)"
   ]
  },
  {
   "cell_type": "code",
   "execution_count": null,
   "metadata": {},
   "outputs": [],
   "source": [
    "# Example 2: Read another Python file in the project\n",
    "reflection_chain_path = os.path.join(project_root, 'src', 'agent', 'reflection', 'reflection_chain.py')\n",
    "print(\"\\nContents of reflection_chain.py:\")\n",
    "for line in read_file_with_line_numbers(reflection_chain_path)[:10]:  # Show first 10 lines\n",
    "    print(line)"
   ]
  },
  {
   "cell_type": "code",
   "execution_count": null,
   "metadata": {},
   "outputs": [],
   "source": [
    "# Example 3: Error Handling\n",
    "try:\n",
    "    read_file_with_line_numbers('/path/to/non/existent/file.txt')\n",
    "except FileNotFoundError as e:\n",
    "    print(\"\\nError Handling Test:\")\n",
    "    print(e)"
   ]
  }
 ],
 "metadata": {
  "kernelspec": {
   "display_name": "sprint-py-aqV3NLOV-py3.10",
   "language": "python",
   "name": "python3"
  },
  "language_info": {
   "codemirror_mode": {
    "name": "ipython",
    "version": 3
   },
   "file_extension": ".py",
   "mimetype": "text/x-python",
   "name": "python",
   "nbconvert_exporter": "python",
   "pygments_lexer": "ipython3",
   "version": "3.10.11"
  }
 },
 "nbformat": 4,
 "nbformat_minor": 2
}
